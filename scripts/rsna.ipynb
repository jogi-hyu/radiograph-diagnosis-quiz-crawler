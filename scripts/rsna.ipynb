{
 "cells": [
  {
   "cell_type": "markdown",
   "metadata": {},
   "source": [
    "# RSNA Diagnosis Quiz Crawler\n",
    "##### Dependency\n",
    "- tqdm\n",
    "- selenium\n",
    "- undetected_chromedriver"
   ]
  },
  {
   "cell_type": "markdown",
   "metadata": {},
   "source": [
    "### Import"
   ]
  },
  {
   "cell_type": "code",
   "execution_count": 1,
   "metadata": {},
   "outputs": [],
   "source": [
    "import re\n",
    "import csv\n",
    "import time\n",
    "from tqdm import tqdm\n",
    "from selenium.webdriver.common.by import By\n",
    "from selenium.webdriver.support.ui import WebDriverWait\n",
    "from selenium.webdriver.support import expected_conditions as ec\n",
    "import undetected_chromedriver as uc"
   ]
  },
  {
   "cell_type": "markdown",
   "metadata": {},
   "source": [
    "### Initiate undetected_chromedriver"
   ]
  },
  {
   "cell_type": "code",
   "execution_count": 2,
   "metadata": {},
   "outputs": [],
   "source": [
    "driver = uc.Chrome()"
   ]
  },
  {
   "cell_type": "markdown",
   "metadata": {},
   "source": [
    "### Get DOI links of RSNA Diagnosis Please Quiz\n",
    "- There are links in issue table of contents starting from Vol. 207, Issue 1"
   ]
  },
  {
   "cell_type": "code",
   "execution_count": 124,
   "metadata": {},
   "outputs": [],
   "source": [
    "doi_datas = []\n",
    "volume = 207 #207\n",
    "issue = 1\n",
    "\n",
    "while True:\n",
    "    # page open\n",
    "    driver.get(f\"https://pubs.rsna.org/toc/radiology/{volume}/{issue}\")\n",
    "\n",
    "    wait = WebDriverWait(driver, 10)\n",
    "    element = wait.until(ec.element_to_be_clickable((By.ID, \"pb-page-content\")))\n",
    "    time.sleep(1)\n",
    "\n",
    "    # 404 not found\n",
    "    if \"404 not found\" in element.text.lower(): break\n",
    "\n",
    "    # get titles\n",
    "    issue_candidates = driver.find_elements(By.CLASS_NAME, \"issue-item__title\")\n",
    "\n",
    "    # if candidate title is \"Case 00\"\n",
    "    for candidate in issue_candidates:\n",
    "        obj = re.search(\"case [0-9][0-9]*\", candidate.text.strip().lower())\n",
    "        if obj:\n",
    "            title = candidate.text.strip()\n",
    "            case_id = obj.group().split()[1]\n",
    "            if \":\" in title: type = \"answer\"\n",
    "            else: type = \"problem\"\n",
    "            doi = candidate.find_element(By.TAG_NAME, \"a\").get_attribute(\"href\")\n",
    "            doi_datas.append({\n",
    "                \"id\": case_id,\n",
    "                \"type\": type,\n",
    "                \"doi\": doi\n",
    "            })\n",
    "\n",
    "    # next issue\n",
    "    issue = issue + 1\n",
    "    if issue > 3:\n",
    "        issue = 1\n",
    "        volume = volume + 1"
   ]
  },
  {
   "cell_type": "markdown",
   "metadata": {},
   "source": [
    "### Add some code for exporting to csv, and edit some data"
   ]
  },
  {
   "cell_type": "markdown",
   "metadata": {},
   "source": [
    "### Get links from csv"
   ]
  },
  {
   "cell_type": "code",
   "execution_count": 3,
   "metadata": {},
   "outputs": [],
   "source": [
    "with open(\"../rsna_case_links.csv\", \"r\") as f:\n",
    "    links = [{k: v for k, v in row.items()} for row in csv.DictReader(f, skipinitialspace=True)]"
   ]
  },
  {
   "cell_type": "markdown",
   "metadata": {},
   "source": [
    "### Crawl from DOI links\n",
    "- There is a crawling cap, for each 100 pages you will be banned for 2 hours"
   ]
  },
  {
   "cell_type": "code",
   "execution_count": 14,
   "metadata": {},
   "outputs": [
    {
     "name": "stderr",
     "output_type": "stream",
     "text": [
      "Crawling 319\t[Answer page]: 100%|██████████| 14/14 [01:28<00:00,  6.33s/it] \n"
     ]
    }
   ],
   "source": [
    "start_index = 305\n",
    "pbar = tqdm(links[start_index:])\n",
    "rsna_data = []\n",
    "for row in pbar:\n",
    "    # initialize all variables\n",
    "    problem_link = \"\"\n",
    "    answer_link = \"\"\n",
    "    problem_date = \"\"\n",
    "    answer_date = \"\"\n",
    "    history = \"\"\n",
    "    findings = \"\"\n",
    "    diagnosis = \"\"\n",
    "    problem_images = []\n",
    "    answer_images = []\n",
    "\n",
    "    # get row data\n",
    "    case_id = row[\"id\"]\n",
    "    problem_link = row[\"problem\"]#.replace(\"pubs.rsna.org\", \"pubs-rsna-org-ssl.access.hanyang.ac.kr:8443\")\n",
    "    answer_link = row[\"answer\"]#.replace(\"pubs.rsna.org\", \"pubs-rsna-org-ssl.access.hanyang.ac.kr:8443\")\n",
    "\n",
    "    # problem side\n",
    "    pbar.set_description(f\"Crawling {case_id}\\t[Problem page]\")\n",
    "    if problem_link.strip() != \"\":\n",
    "        problem_page = driver.get(problem_link)\n",
    "\n",
    "        # wait for page to load\n",
    "        wait = WebDriverWait(driver, 10)\n",
    "        element = wait.until(ec.element_to_be_clickable((By.ID, \"pb-page-content\")))\n",
    "        time.sleep(.5)\n",
    "\n",
    "        # get problem date\n",
    "        problem_date = driver.find_element(By.NAME, \"dc.Date\").get_attribute(\"content\")\n",
    "        \n",
    "        # get history\n",
    "        history = \"\"\n",
    "        titles = driver.find_elements(By.CLASS_NAME, \"article-section__title\")\n",
    "        for t in titles:\n",
    "            if \"history\" in t.text.strip().lower() and \"article\" not in t.text.strip().lower():\n",
    "                history = t.find_element(By.XPATH, \"following-sibling::p\").text\n",
    "\n",
    "        # get problem images\n",
    "        problem_images = []\n",
    "        figures = driver.find_elements(By.CLASS_NAME, \"article__inlineFigure\")\n",
    "        for fig in figures:\n",
    "            src = f\"https://pubs.rsna.org{fig.find_element(By.TAG_NAME, 'img').get_attribute('data-lg-src')}\"\n",
    "            caption = fig.find_element(By.CLASS_NAME, \"figure__caption\").text\n",
    "            problem_images.append({\"img\": src, \"caption\": caption})\n",
    "        \n",
    "    # answer side\n",
    "    pbar.set_description(f\"Crawling {case_id}\\t[Answer page]\")\n",
    "    if answer_link.strip() != \"\":\n",
    "        answer_page = driver.get(answer_link)\n",
    "\n",
    "        # wait for page to load\n",
    "        wait = WebDriverWait(driver, 10)\n",
    "        element = wait.until(ec.element_to_be_clickable((By.ID, \"pb-page-content\")))\n",
    "        time.sleep(.5)\n",
    "\n",
    "        # get answer date\n",
    "        answer_date = driver.find_element(By.NAME, \"dc.Date\").get_attribute(\"content\")\n",
    "\n",
    "        # get findings\n",
    "        findings = \"\"\n",
    "        titles = driver.find_elements(By.CLASS_NAME, \"article-section__title\")\n",
    "        for t in titles:\n",
    "            if \"findings\" in t.text.strip().lower():\n",
    "                findings = t.find_element(By.XPATH, \"following-sibling::p\").text\n",
    "        \n",
    "        # get diagnosis\n",
    "        diagnosis = \"\"\n",
    "        diagnosis = re.sub(' +', ' ', (driver.find_element(By.NAME, \"dc.Title\").get_attribute(\"content\")+\" \").split(\":\")[1].strip())\n",
    "        \n",
    "        # get answer images\n",
    "        answer_images = []\n",
    "        figures = driver.find_elements(By.CLASS_NAME, \"article__inlineFigure\")\n",
    "        for fig in figures:\n",
    "            src = f\"https://pubs.rsna.org{fig.find_element(By.TAG_NAME, 'img').get_attribute('data-lg-src')}\"\n",
    "            caption = fig.find_element(By.CLASS_NAME, \"figure__caption\").text\n",
    "            answer_images.append({\"img\": src, \"caption\": caption})\n",
    "\n",
    "    rsna_data.append({\n",
    "        \"id\" : case_id,\n",
    "        \"link\" : [problem_link, answer_link],\n",
    "        \"date\" : [problem_date, answer_date],\n",
    "        \"history\" : history,\n",
    "        \"findings\" : findings,\n",
    "        \"diagnosis\" : diagnosis,\n",
    "        \"images\" : [problem_images, answer_images]\n",
    "    })"
   ]
  },
  {
   "cell_type": "markdown",
   "metadata": {},
   "source": [
    "### Export to csv file"
   ]
  },
  {
   "cell_type": "code",
   "execution_count": 1,
   "metadata": {},
   "outputs": [
    {
     "ename": "NameError",
     "evalue": "name 'rsna_data' is not defined",
     "output_type": "error",
     "traceback": [
      "\u001b[1;31m---------------------------------------------------------------------------\u001b[0m",
      "\u001b[1;31mNameError\u001b[0m                                 Traceback (most recent call last)",
      "Cell \u001b[1;32mIn[1], line 1\u001b[0m\n\u001b[1;32m----> 1\u001b[0m keys \u001b[39m=\u001b[39m rsna_data[\u001b[39m0\u001b[39m]\u001b[39m.\u001b[39mkeys()\n\u001b[0;32m      2\u001b[0m \u001b[39mwith\u001b[39;00m \u001b[39mopen\u001b[39m(\u001b[39m\"\u001b[39m\u001b[39m../crawled_data/rsna_306-319.csv\u001b[39m\u001b[39m\"\u001b[39m, \u001b[39m\"\u001b[39m\u001b[39mw\u001b[39m\u001b[39m\"\u001b[39m, encoding\u001b[39m=\u001b[39m\u001b[39m'\u001b[39m\u001b[39mutf-8-sig\u001b[39m\u001b[39m'\u001b[39m, newline\u001b[39m=\u001b[39m\u001b[39m\"\u001b[39m\u001b[39m\"\u001b[39m) \u001b[39mas\u001b[39;00m csv_file: \u001b[39m# Add newline=\"\"\u001b[39;00m\n\u001b[0;32m      3\u001b[0m     csv_writer \u001b[39m=\u001b[39m csv\u001b[39m.\u001b[39mDictWriter(csv_file, keys) \u001b[39m# Pass the writer to DictWriter\u001b[39;00m\n",
      "\u001b[1;31mNameError\u001b[0m: name 'rsna_data' is not defined"
     ]
    }
   ],
   "source": [
    "keys = rsna_data[0].keys()\n",
    "with open(\"../crawled_data/rsna_306-319.csv\", \"w\", encoding='utf-8-sig', newline=\"\") as csv_file: # Add newline=\"\"\n",
    "    csv_writer = csv.DictWriter(csv_file, keys) # Pass the writer to DictWriter\n",
    "    csv_writer.writeheader()\n",
    "    csv_writer.writerows(rsna_data)"
   ]
  }
 ],
 "metadata": {
  "kernelspec": {
   "display_name": "Python 3",
   "language": "python",
   "name": "python3"
  },
  "language_info": {
   "codemirror_mode": {
    "name": "ipython",
    "version": 3
   },
   "file_extension": ".py",
   "mimetype": "text/x-python",
   "name": "python",
   "nbconvert_exporter": "python",
   "pygments_lexer": "ipython3",
   "version": "3.11.4"
  },
  "orig_nbformat": 4
 },
 "nbformat": 4,
 "nbformat_minor": 2
}
