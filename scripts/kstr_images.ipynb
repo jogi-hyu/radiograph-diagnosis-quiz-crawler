{
 "cells": [
  {
   "cell_type": "code",
   "execution_count": 75,
   "metadata": {},
   "outputs": [],
   "source": [
    "import os\n",
    "import time\n",
    "import pandas as pd\n",
    "import urllib\n",
    "from urllib.request import urlopen, urlretrieve\n",
    "\n",
    "from bs4 import BeautifulSoup\n",
    "from tqdm import tqdm\n",
    "from shutil import rmtree"
   ]
  },
  {
   "cell_type": "code",
   "execution_count": 4,
   "metadata": {},
   "outputs": [],
   "source": [
    "csv = pd.read_csv(\"./kstr_data.csv\")\n",
    "case_links = csv[\"link\"]"
   ]
  },
  {
   "cell_type": "code",
   "execution_count": 5,
   "metadata": {},
   "outputs": [
    {
     "data": {
      "text/plain": [
       "'324'"
      ]
     },
     "execution_count": 5,
     "metadata": {},
     "output_type": "execute_result"
    }
   ],
   "source": [
    "case_links[0].split(\"number=\")[-1]"
   ]
  },
  {
   "cell_type": "code",
   "execution_count": 6,
   "metadata": {},
   "outputs": [
    {
     "name": "stderr",
     "output_type": "stream",
     "text": [
      "Crawling case    1\t\t:   0%|          | 0/1342 [00:00<?, ?it/s]"
     ]
    },
    {
     "name": "stderr",
     "output_type": "stream",
     "text": [
      "Crawling case 1342\t\t: 100%|██████████| 1342/1342 [11:48<00:00,  1.89it/s] \n"
     ]
    }
   ],
   "source": [
    "base_link = \"https://kstr.radiology.or.kr/weekly/files\"\n",
    "images = []\n",
    "pbar = tqdm(case_links)\n",
    "index = 1\n",
    "for link in pbar:\n",
    "    pbar.set_description(f\"Crawling case {index:4}\\t\\t\")\n",
    "\n",
    "    response = urlopen(link)\n",
    "    soup = BeautifulSoup(response, 'html.parser')\n",
    "\n",
    "    image_count = len(soup.find(\"ul\", {\"class\" : \"thumbList\"}).find_all(\"li\"))\n",
    "    \n",
    "    case_num = link.split(\"number=\")[-1]\n",
    "    image_links = [f\"{base_link}/case-{case_num}-{i+1}.jpg\" for i in range(image_count)]\n",
    "\n",
    "    images.append(image_links)\n",
    "    index += 1\n",
    "    #pbar.set_description(f\"Now waiting before case {index:4}\\t\")\n",
    "    #time.sleep(random.randint(5, 15)"
   ]
  },
  {
   "cell_type": "code",
   "execution_count": 168,
   "metadata": {},
   "outputs": [
    {
     "name": "stderr",
     "output_type": "stream",
     "text": [
      "100%|██████████| 1342/1342 [00:00<00:00, 5100.55it/s]\n"
     ]
    }
   ],
   "source": [
    "errors = []\n",
    "\n",
    "for i, links in enumerate(tqdm(images)):\n",
    "    if not (i+1 in errors): continue\n",
    "    dirname = f\"./images/case_{(i+1):04}\"\n",
    "    if not os.path.isdir(dirname): os.mkdir(dirname)\n",
    "    extensions = [\"jpg\", \"JPG\", 'gif', \"GIF\", \"png\", \"PNG\", \"jpeg\", \"JPEG\"]\n",
    "    \n",
    "    for j, l in enumerate(links, start=1):\n",
    "        success = False\n",
    "        for ex in extensions:\n",
    "            try:\n",
    "                urlretrieve(l.replace('jpg',ex), os.path.join(dirname, f\"image_{j}.{ex}\"))\n",
    "                success = True\n",
    "                break\n",
    "            except:\n",
    "                continue\n",
    "            \n",
    "        if not success:\n",
    "            errors.append(i+1)\n",
    "            rmtree(dirname)\n",
    "            print('asd')\n",
    "            break\n"
   ]
  },
  {
   "cell_type": "code",
   "execution_count": 165,
   "metadata": {},
   "outputs": [],
   "source": [
    "error_cases=[\n",
    "    {\n",
    "        \"id\" : i,\n",
    "        \"link\" : f\"https://kstr.radiology.or.kr/weekly/archive/view.php?number={images[i-1][0].split('case-')[-1].split('-')[0]}\"\n",
    "    }\n",
    "    for i in errors\n",
    "]"
   ]
  },
  {
   "cell_type": "code",
   "execution_count": 167,
   "metadata": {},
   "outputs": [
    {
     "data": {
      "text/plain": [
       "['https://kstr.radiology.or.kr/weekly/files/case-735-1.jpg',\n",
       " 'https://kstr.radiology.or.kr/weekly/files/case-735-2.jpg',\n",
       " 'https://kstr.radiology.or.kr/weekly/files/case-735-3.jpg']"
      ]
     },
     "execution_count": 167,
     "metadata": {},
     "output_type": "execute_result"
    }
   ],
   "source": [
    "index = 636\n",
    "# for index in errors_take3:\n",
    "#     index =\n",
    "#     images[index] = [link.replace(\".JPG\",\".jpg\") for link in images[index]]\n",
    "# images[index][4] = images[index][4].replace(\".GIF\",\".JPG\")\n",
    "images[index]"
   ]
  },
  {
   "cell_type": "code",
   "execution_count": 142,
   "metadata": {},
   "outputs": [],
   "source": [
    "images[635][2] = images[635][2].replace(\".jpg\", \".gif\")"
   ]
  },
  {
   "cell_type": "code",
   "execution_count": 187,
   "metadata": {},
   "outputs": [
    {
     "name": "stderr",
     "output_type": "stream",
     "text": [
      " 46%|████▌     | 616/1342 [00:00<00:01, 673.62it/s]"
     ]
    },
    {
     "name": "stdout",
     "output_type": "stream",
     "text": [
      "case_0485\n"
     ]
    },
    {
     "name": "stderr",
     "output_type": "stream",
     "text": [
      "100%|██████████| 1342/1342 [00:01<00:00, 673.76it/s]\n"
     ]
    }
   ],
   "source": [
    "from PIL import Image\n",
    "for case_dir in tqdm(os.listdir(\"./kstr_images\")):\n",
    "    if len(os.listdir(f\"./kstr_images/{case_dir}\")) == 0: print(case_dir)\n",
    "            \n",
    "            "
   ]
  },
  {
   "cell_type": "code",
   "execution_count": 188,
   "metadata": {},
   "outputs": [
    {
     "data": {
      "text/plain": [
       "6287"
      ]
     },
     "execution_count": 188,
     "metadata": {},
     "output_type": "execute_result"
    }
   ],
   "source": [
    "len(sum(images, []))"
   ]
  },
  {
   "cell_type": "code",
   "execution_count": 15,
   "metadata": {},
   "outputs": [],
   "source": [
    "pd.DataFrame(images).to_csv(\"kstr_images.csv\", index=False, header=False)"
   ]
  }
 ],
 "metadata": {
  "kernelspec": {
   "display_name": "base",
   "language": "python",
   "name": "python3"
  },
  "language_info": {
   "codemirror_mode": {
    "name": "ipython",
    "version": 3
   },
   "file_extension": ".py",
   "mimetype": "text/x-python",
   "name": "python",
   "nbconvert_exporter": "python",
   "pygments_lexer": "ipython3",
   "version": "3.11.3"
  },
  "orig_nbformat": 4
 },
 "nbformat": 4,
 "nbformat_minor": 2
}
